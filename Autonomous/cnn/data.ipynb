{
 "cells": [
  {
   "cell_type": "code",
   "execution_count": 1,
   "id": "impossible-neighborhood",
   "metadata": {},
   "outputs": [],
   "source": [
    "%reload_ext autoreload\n",
    "%autoreload 2\n",
    "\n",
    "import pandas as pd\n",
    "import sys\n",
    "import numpy as np\n",
    "import matplotlib.pyplot as plt\n",
    "import os\n",
    "import re\n",
    "from PIL import Image\n",
    "import random\n",
    "\n",
    "import tensorflow as tf\n",
    "from tensorflow import keras\n",
    "from tensorflow.keras.layers import Concatenate, UpSampling2D, Add\n",
    "from tensorflow.keras.layers import Convolution2D, Dense, MaxPooling2D, Flatten, BatchNormalization, Dropout\n",
    "from tensorflow.keras import Input, Model"
   ]
  },
  {
   "cell_type": "code",
   "execution_count": 2,
   "id": "fancy-husband",
   "metadata": {},
   "outputs": [
    {
     "name": "stdout",
     "output_type": "stream",
     "text": [
      "['1622419511952088.jpg', '1622419506502318.jpg', '1622419528268973.jpg', '1622419576046052.jpg', '1622419527177214.jpg', '1622419614871980.jpg', '1622419533705117.jpg', '1622419514156086.jpg', '1622419530437773.jpg', '1622419531525838.jpg', '1622419505408716.jpg', '1622419613773041.jpg', '1622419612683097.jpg', '1622419523935783.jpg', '1622419518489591.jpg', '1622419509784848.jpg', '1622419532613964.jpg', '1622419610516969.jpg', '1622419520677765.jpg', '1622419519582132.jpg', '1622419507617507.jpg']\n"
     ]
    }
   ],
   "source": [
    "ins = []\n",
    "outs = []\n",
    "imDir = 'images'\n",
    "labelDir = 'labels'\n",
    "\n",
    "filt = '*'\n",
    "#print(os.listdir(imDir))\n",
    "files = [f for f in os.listdir(imDir) if re.match(r'.%s.jpg'%filt, f)]\n",
    "print(files)\n"
   ]
  },
  {
   "cell_type": "code",
   "execution_count": 3,
   "id": "revolutionary-interview",
   "metadata": {},
   "outputs": [],
   "source": [
    "ins = []\n",
    "outs = []\n",
    "for f in files:\n",
    "    imFile = imDir + '/' + f\n",
    "    labFile = labelDir + '/' + f\n",
    "    \n",
    "    im = Image.open(imFile)\n",
    "    ins.append(np.asarray(im))\n",
    "    \n",
    "    label = Image.open(labFile)\n",
    "    label = np.asarray(label)\n",
    "    outs.append(np.where(label > 100, 1, 0))\n",
    "    \n",
    "sh = ins[0].shape\n",
    "newSh = (1, sh[0], sh[1], sh[2])\n",
    "ins = [np.reshape(i, newshape = newSh) for i in ins]\n",
    "ins = np.concatenate(ins, axis=0)\n",
    "\n",
    "sh = outs[0].shape\n",
    "newSh = (1, sh[0], sh[1])\n",
    "outs = [np.reshape(o, newshape = newSh) for o in outs]\n",
    "outs = np.concatenate(outs, axis=0)"
   ]
  },
  {
   "cell_type": "code",
   "execution_count": 4,
   "id": "informed-wonder",
   "metadata": {},
   "outputs": [],
   "source": [
    "def createModel(inputShape):\n",
    "    inputTensor = Input(shape = inputShape, name = 'input')\n",
    "    \n",
    "    tensors = []\n",
    "    previousTensor = inputTensor\n",
    "    count = 0\n",
    "    \n",
    "    tensors.append(Convolution2D(\n",
    "            filters = 20,\n",
    "            kernel_size = 3,\n",
    "            strides = 3,\n",
    "            padding = 'same',\n",
    "            activation = 'elu',\n",
    "            name = '1')(previousTensor))\n",
    "    previousTensor = tensors[0]\n",
    "    \n",
    "    tensors.append(Convolution2D(\n",
    "            filters = 40,\n",
    "            kernel_size = 3,\n",
    "            strides = 4,\n",
    "            padding = 'same',\n",
    "            activation = 'elu',\n",
    "            name = '2')(previousTensor))\n",
    "    previousTensor = tensors[1]\n",
    "        \n",
    "    tensors.append(Convolution2D(\n",
    "            filters = 60,\n",
    "            kernel_size = 3,\n",
    "            strides = 2,\n",
    "            padding = 'same',\n",
    "            activation = 'elu',\n",
    "            name = '3')(previousTensor))\n",
    "    previousTensor = tensors[2]\n",
    "    \n",
    "    previousTensor = UpSampling2D(size = 24)(previousTensor)\n",
    "    \n",
    "    outputTensor = Convolution2D(2,\n",
    "                            kernel_size = (1,1),\n",
    "                            padding='same',\n",
    "                            name = 'output',\n",
    "                            activation='softmax')(previousTensor)\n",
    "    \n",
    "    #creates the model\n",
    "    model = Model(inputs = inputTensor, outputs = outputTensor)\n",
    "    \n",
    "    #creates the optimizer\n",
    "    opt = tf.keras.optimizers.Adam(lr=.0001, beta_1=.9, beta_2=.999, epsilon=None, decay=0.0, amsgrad=False)\n",
    "    \n",
    "    #compiles, prints and returns the model\n",
    "    model.compile(loss=tf.keras.losses.SparseCategoricalCrossentropy(), optimizer=opt,\n",
    "                 metrics=[tf.keras.metrics.SparseCategoricalAccuracy()])\n",
    "    print(model.summary())\n",
    "    return model\n",
    "    "
   ]
  },
  {
   "cell_type": "code",
   "execution_count": 5,
   "id": "other-soundtrack",
   "metadata": {},
   "outputs": [
    {
     "name": "stdout",
     "output_type": "stream",
     "text": [
      "(21, 1080, 1920, 3)\n",
      "(21, 1080, 1920)\n"
     ]
    }
   ],
   "source": [
    "print(ins.shape)\n",
    "print(outs.shape)"
   ]
  },
  {
   "cell_type": "code",
   "execution_count": 6,
   "id": "valuable-tuition",
   "metadata": {},
   "outputs": [
    {
     "name": "stdout",
     "output_type": "stream",
     "text": [
      "Model: \"functional_1\"\n",
      "_________________________________________________________________\n",
      "Layer (type)                 Output Shape              Param #   \n",
      "=================================================================\n",
      "input (InputLayer)           [(None, 1080, 1920, 3)]   0         \n",
      "_________________________________________________________________\n",
      "1 (Conv2D)                   (None, 360, 640, 20)      560       \n",
      "_________________________________________________________________\n",
      "2 (Conv2D)                   (None, 90, 160, 40)       7240      \n",
      "_________________________________________________________________\n",
      "3 (Conv2D)                   (None, 45, 80, 60)        21660     \n",
      "_________________________________________________________________\n",
      "up_sampling2d (UpSampling2D) (None, 1080, 1920, 60)    0         \n",
      "_________________________________________________________________\n",
      "output (Conv2D)              (None, 1080, 1920, 2)     122       \n",
      "=================================================================\n",
      "Total params: 29,582\n",
      "Trainable params: 29,582\n",
      "Non-trainable params: 0\n",
      "_________________________________________________________________\n",
      "None\n"
     ]
    }
   ],
   "source": [
    "model = createModel(ins.shape[1:4])"
   ]
  },
  {
   "cell_type": "code",
   "execution_count": 7,
   "id": "southwest-dealing",
   "metadata": {},
   "outputs": [],
   "source": [
    "def training_set_generator_images(ins, outs, batch_size=10,\n",
    "                          input_name='input', \n",
    "                        output_name='output'):\n",
    "    '''\n",
    "    Generator for producing random minibatches of image training samples.\n",
    "    \n",
    "    @param ins Full set of training set inputs (examples x row x col x chan)\n",
    "    @param outs Corresponding set of sample (examples x nclasses)\n",
    "    @param batch_size Number of samples for each minibatch\n",
    "    @param input_name Name of the model layer that is used for the input of the model\n",
    "    @param output_name Name of the model layer that is used for the output of the model\n",
    "    '''\n",
    "    \n",
    "    while True:\n",
    "        # Randomly select a set of example indices\n",
    "        example_indices = random.choices(range(ins.shape[0]), k=batch_size)\n",
    "        \n",
    "        # The generator will produce a pair of return values: one for inputs and one for outputs\n",
    "        yield({input_name: ins[example_indices,:,:,:]},\n",
    "             {output_name: outs[example_indices,:,:]})\n",
    "        \n",
    "generator = training_set_generator_images(ins, outs, batch_size=10)\n"
   ]
  },
  {
   "cell_type": "code",
   "execution_count": 8,
   "id": "vocal-tracker",
   "metadata": {},
   "outputs": [
    {
     "name": "stdout",
     "output_type": "stream",
     "text": [
      "Epoch 1/100\n",
      "2/2 [==============================] - 5s 3s/step - loss: 2.6522 - sparse_categorical_accuracy: 0.6645\n",
      "Epoch 2/100\n",
      "2/2 [==============================] - 5s 3s/step - loss: 1.5374 - sparse_categorical_accuracy: 0.7675\n",
      "Epoch 3/100\n",
      "2/2 [==============================] - 5s 3s/step - loss: 0.8021 - sparse_categorical_accuracy: 0.8569\n",
      "Epoch 4/100\n",
      "2/2 [==============================] - 5s 3s/step - loss: 0.4305 - sparse_categorical_accuracy: 0.9198\n",
      "Epoch 5/100\n",
      "2/2 [==============================] - 5s 3s/step - loss: 0.2556 - sparse_categorical_accuracy: 0.9547\n",
      "Epoch 6/100\n",
      "2/2 [==============================] - 6s 3s/step - loss: 0.1720 - sparse_categorical_accuracy: 0.9703\n",
      "Epoch 7/100\n",
      "2/2 [==============================] - 5s 3s/step - loss: 0.1280 - sparse_categorical_accuracy: 0.9793\n",
      "Epoch 8/100\n",
      "2/2 [==============================] - 5s 3s/step - loss: 0.1037 - sparse_categorical_accuracy: 0.9846\n",
      "Epoch 9/100\n",
      "2/2 [==============================] - 6s 3s/step - loss: 0.0892 - sparse_categorical_accuracy: 0.9877\n",
      "Epoch 10/100\n",
      "2/2 [==============================] - 6s 3s/step - loss: 0.0799 - sparse_categorical_accuracy: 0.9895\n",
      "Epoch 11/100\n",
      "2/2 [==============================] - 5s 3s/step - loss: 0.0736 - sparse_categorical_accuracy: 0.9905\n",
      "Epoch 12/100\n",
      "2/2 [==============================] - 6s 3s/step - loss: 0.0691 - sparse_categorical_accuracy: 0.9914\n",
      "Epoch 13/100\n",
      "2/2 [==============================] - 6s 3s/step - loss: 0.0657 - sparse_categorical_accuracy: 0.9922\n",
      "Epoch 14/100\n",
      "2/2 [==============================] - 6s 3s/step - loss: 0.0633 - sparse_categorical_accuracy: 0.9928\n",
      "Epoch 15/100\n",
      "2/2 [==============================] - 5s 3s/step - loss: 0.0614 - sparse_categorical_accuracy: 0.9932\n",
      "Epoch 16/100\n",
      "2/2 [==============================] - 6s 3s/step - loss: 0.0599 - sparse_categorical_accuracy: 0.9936\n",
      "Epoch 17/100\n",
      "2/2 [==============================] - 6s 3s/step - loss: 0.0587 - sparse_categorical_accuracy: 0.9939\n",
      "Epoch 18/100\n",
      "2/2 [==============================] - 6s 3s/step - loss: 0.0578 - sparse_categorical_accuracy: 0.9942\n",
      "Epoch 19/100\n",
      "2/2 [==============================] - 6s 3s/step - loss: 0.0570 - sparse_categorical_accuracy: 0.9944\n",
      "Epoch 20/100\n",
      "2/2 [==============================] - 6s 3s/step - loss: 0.0564 - sparse_categorical_accuracy: 0.9945\n",
      "Epoch 21/100\n",
      "2/2 [==============================] - 6s 3s/step - loss: 0.0558 - sparse_categorical_accuracy: 0.9947\n",
      "Epoch 22/100\n",
      "2/2 [==============================] - 6s 3s/step - loss: 0.0554 - sparse_categorical_accuracy: 0.9949\n",
      "Epoch 23/100\n",
      "2/2 [==============================] - 6s 3s/step - loss: 0.0550 - sparse_categorical_accuracy: 0.9950\n",
      "Epoch 24/100\n",
      "2/2 [==============================] - 6s 3s/step - loss: 0.0547 - sparse_categorical_accuracy: 0.9951\n",
      "Epoch 25/100\n",
      "2/2 [==============================] - 6s 3s/step - loss: 0.0544 - sparse_categorical_accuracy: 0.9952\n",
      "Epoch 26/100\n",
      "2/2 [==============================] - 6s 3s/step - loss: 0.0541 - sparse_categorical_accuracy: 0.9954\n",
      "Epoch 27/100\n",
      "2/2 [==============================] - 6s 3s/step - loss: 0.0539 - sparse_categorical_accuracy: 0.9954\n",
      "Epoch 28/100\n",
      "2/2 [==============================] - 6s 3s/step - loss: 0.0537 - sparse_categorical_accuracy: 0.9955\n",
      "Epoch 29/100\n",
      "2/2 [==============================] - 6s 3s/step - loss: 0.0535 - sparse_categorical_accuracy: 0.9955\n",
      "Epoch 30/100\n",
      "2/2 [==============================] - 6s 3s/step - loss: 0.0533 - sparse_categorical_accuracy: 0.9955\n",
      "Epoch 31/100\n",
      "2/2 [==============================] - 6s 3s/step - loss: 0.0532 - sparse_categorical_accuracy: 0.9956\n",
      "Epoch 32/100\n",
      "2/2 [==============================] - 6s 3s/step - loss: 0.0530 - sparse_categorical_accuracy: 0.9956\n",
      "Epoch 33/100\n",
      "2/2 [==============================] - 6s 3s/step - loss: 0.0529 - sparse_categorical_accuracy: 0.9957\n",
      "Epoch 34/100\n",
      "2/2 [==============================] - 6s 3s/step - loss: 0.0528 - sparse_categorical_accuracy: 0.9957\n",
      "Epoch 35/100\n",
      "2/2 [==============================] - 6s 3s/step - loss: 0.0526 - sparse_categorical_accuracy: 0.9957\n",
      "Epoch 36/100\n",
      "2/2 [==============================] - 6s 3s/step - loss: 0.0525 - sparse_categorical_accuracy: 0.9957\n",
      "Epoch 37/100\n",
      "2/2 [==============================] - 6s 3s/step - loss: 0.0524 - sparse_categorical_accuracy: 0.9958\n",
      "Epoch 38/100\n",
      "2/2 [==============================] - 6s 3s/step - loss: 0.0523 - sparse_categorical_accuracy: 0.9958\n",
      "Epoch 39/100\n",
      "2/2 [==============================] - 6s 3s/step - loss: 0.0522 - sparse_categorical_accuracy: 0.9959\n",
      "Epoch 40/100\n",
      "2/2 [==============================] - 6s 3s/step - loss: 0.0521 - sparse_categorical_accuracy: 0.9959\n",
      "Epoch 41/100\n",
      "2/2 [==============================] - 6s 3s/step - loss: 0.0521 - sparse_categorical_accuracy: 0.9960\n",
      "Epoch 42/100\n",
      "2/2 [==============================] - 6s 3s/step - loss: 0.0520 - sparse_categorical_accuracy: 0.9960\n",
      "Epoch 43/100\n",
      "2/2 [==============================] - 6s 3s/step - loss: 0.0519 - sparse_categorical_accuracy: 0.9960\n",
      "Epoch 44/100\n",
      "2/2 [==============================] - 6s 3s/step - loss: 0.0518 - sparse_categorical_accuracy: 0.9961\n",
      "Epoch 45/100\n",
      "2/2 [==============================] - 6s 3s/step - loss: 0.0518 - sparse_categorical_accuracy: 0.9961\n",
      "Epoch 46/100\n",
      "2/2 [==============================] - 6s 3s/step - loss: 0.0517 - sparse_categorical_accuracy: 0.9961\n",
      "Epoch 47/100\n",
      "2/2 [==============================] - 6s 3s/step - loss: 0.0516 - sparse_categorical_accuracy: 0.9961\n",
      "Epoch 48/100\n",
      "2/2 [==============================] - 5s 3s/step - loss: 0.0515 - sparse_categorical_accuracy: 0.9962\n",
      "Epoch 49/100\n",
      "2/2 [==============================] - 6s 3s/step - loss: 0.0515 - sparse_categorical_accuracy: 0.9962\n",
      "Epoch 50/100\n",
      "2/2 [==============================] - 6s 3s/step - loss: 0.0514 - sparse_categorical_accuracy: 0.9962\n",
      "Epoch 51/100\n",
      "2/2 [==============================] - 6s 3s/step - loss: 0.0514 - sparse_categorical_accuracy: 0.9962\n",
      "Epoch 52/100\n",
      "2/2 [==============================] - 6s 3s/step - loss: 0.0513 - sparse_categorical_accuracy: 0.9962\n",
      "Epoch 53/100\n",
      "2/2 [==============================] - 6s 3s/step - loss: 0.0513 - sparse_categorical_accuracy: 0.9962\n",
      "Epoch 54/100\n",
      "2/2 [==============================] - 6s 3s/step - loss: 0.0512 - sparse_categorical_accuracy: 0.9963\n",
      "Epoch 55/100\n",
      "2/2 [==============================] - 6s 3s/step - loss: 0.0512 - sparse_categorical_accuracy: 0.9963\n",
      "Epoch 56/100\n",
      "2/2 [==============================] - 6s 3s/step - loss: 0.0511 - sparse_categorical_accuracy: 0.9963\n",
      "Epoch 57/100\n",
      "2/2 [==============================] - 6s 3s/step - loss: 0.0511 - sparse_categorical_accuracy: 0.9963\n",
      "Epoch 58/100\n",
      "2/2 [==============================] - 6s 3s/step - loss: 0.0510 - sparse_categorical_accuracy: 0.9963\n",
      "Epoch 59/100\n",
      "2/2 [==============================] - 6s 3s/step - loss: 0.0510 - sparse_categorical_accuracy: 0.9963\n",
      "Epoch 60/100\n",
      "2/2 [==============================] - 6s 3s/step - loss: 0.0509 - sparse_categorical_accuracy: 0.9963\n",
      "Epoch 61/100\n",
      "2/2 [==============================] - 6s 3s/step - loss: 0.0509 - sparse_categorical_accuracy: 0.9963\n",
      "Epoch 62/100\n",
      "2/2 [==============================] - 6s 3s/step - loss: 0.0508 - sparse_categorical_accuracy: 0.9964\n",
      "Epoch 63/100\n",
      "2/2 [==============================] - 6s 3s/step - loss: 0.0508 - sparse_categorical_accuracy: 0.9964\n",
      "Epoch 64/100\n",
      "2/2 [==============================] - 6s 3s/step - loss: 0.0508 - sparse_categorical_accuracy: 0.9964\n",
      "Epoch 65/100\n",
      "2/2 [==============================] - 6s 3s/step - loss: 0.0507 - sparse_categorical_accuracy: 0.9964\n",
      "Epoch 66/100\n",
      "2/2 [==============================] - 6s 3s/step - loss: 0.0507 - sparse_categorical_accuracy: 0.9964\n",
      "Epoch 67/100\n",
      "2/2 [==============================] - 6s 3s/step - loss: 0.0506 - sparse_categorical_accuracy: 0.9964\n",
      "Epoch 68/100\n",
      "2/2 [==============================] - 6s 3s/step - loss: 0.0506 - sparse_categorical_accuracy: 0.9964\n",
      "Epoch 69/100\n",
      "2/2 [==============================] - 6s 3s/step - loss: 0.0506 - sparse_categorical_accuracy: 0.9965\n",
      "Epoch 70/100\n",
      "2/2 [==============================] - 6s 3s/step - loss: 0.0505 - sparse_categorical_accuracy: 0.9965\n",
      "Epoch 71/100\n",
      "2/2 [==============================] - 6s 3s/step - loss: 0.0505 - sparse_categorical_accuracy: 0.9965\n",
      "Epoch 72/100\n",
      "2/2 [==============================] - 6s 3s/step - loss: 0.0505 - sparse_categorical_accuracy: 0.9965\n",
      "Epoch 73/100\n",
      "2/2 [==============================] - 6s 3s/step - loss: 0.0504 - sparse_categorical_accuracy: 0.9965\n",
      "Epoch 74/100\n",
      "2/2 [==============================] - 6s 3s/step - loss: 0.0504 - sparse_categorical_accuracy: 0.9965\n",
      "Epoch 75/100\n",
      "2/2 [==============================] - 6s 3s/step - loss: 0.0504 - sparse_categorical_accuracy: 0.9965\n",
      "Epoch 76/100\n",
      "2/2 [==============================] - 6s 3s/step - loss: 0.0504 - sparse_categorical_accuracy: 0.9965\n",
      "Epoch 77/100\n",
      "2/2 [==============================] - 6s 3s/step - loss: 0.0503 - sparse_categorical_accuracy: 0.9965\n",
      "Epoch 78/100\n",
      "2/2 [==============================] - 6s 3s/step - loss: 0.0503 - sparse_categorical_accuracy: 0.9965\n",
      "Epoch 79/100\n",
      "2/2 [==============================] - 6s 3s/step - loss: 0.0503 - sparse_categorical_accuracy: 0.9966\n",
      "Epoch 80/100\n",
      "2/2 [==============================] - 6s 3s/step - loss: 0.0503 - sparse_categorical_accuracy: 0.9966\n",
      "Epoch 81/100\n",
      "2/2 [==============================] - 6s 3s/step - loss: 0.0502 - sparse_categorical_accuracy: 0.9966\n",
      "Epoch 82/100\n",
      "2/2 [==============================] - 6s 3s/step - loss: 0.0502 - sparse_categorical_accuracy: 0.9966\n",
      "Epoch 83/100\n",
      "2/2 [==============================] - 6s 3s/step - loss: 0.0502 - sparse_categorical_accuracy: 0.9966\n",
      "Epoch 84/100\n",
      "2/2 [==============================] - 6s 3s/step - loss: 0.0501 - sparse_categorical_accuracy: 0.9966\n",
      "Epoch 85/100\n",
      "2/2 [==============================] - 6s 3s/step - loss: 0.0501 - sparse_categorical_accuracy: 0.9966\n",
      "Epoch 86/100\n",
      "2/2 [==============================] - 6s 3s/step - loss: 0.0501 - sparse_categorical_accuracy: 0.9966\n",
      "Epoch 87/100\n",
      "2/2 [==============================] - 6s 3s/step - loss: 0.0501 - sparse_categorical_accuracy: 0.9966\n",
      "Epoch 88/100\n",
      "2/2 [==============================] - 6s 3s/step - loss: 0.0501 - sparse_categorical_accuracy: 0.9966\n",
      "Epoch 89/100\n",
      "2/2 [==============================] - 6s 3s/step - loss: 0.0500 - sparse_categorical_accuracy: 0.9966\n",
      "Epoch 90/100\n",
      "2/2 [==============================] - 6s 3s/step - loss: 0.0500 - sparse_categorical_accuracy: 0.9966\n",
      "Epoch 91/100\n",
      "2/2 [==============================] - 6s 3s/step - loss: 0.0500 - sparse_categorical_accuracy: 0.9966\n",
      "Epoch 92/100\n",
      "2/2 [==============================] - 6s 3s/step - loss: 0.0500 - sparse_categorical_accuracy: 0.9966\n",
      "Epoch 93/100\n",
      "2/2 [==============================] - 6s 3s/step - loss: 0.0500 - sparse_categorical_accuracy: 0.9966\n",
      "Epoch 94/100\n",
      "2/2 [==============================] - 6s 3s/step - loss: 0.0499 - sparse_categorical_accuracy: 0.9966\n",
      "Epoch 95/100\n",
      "2/2 [==============================] - 6s 3s/step - loss: 0.0499 - sparse_categorical_accuracy: 0.9966\n",
      "Epoch 96/100\n",
      "2/2 [==============================] - 6s 3s/step - loss: 0.0499 - sparse_categorical_accuracy: 0.9966\n",
      "Epoch 97/100\n",
      "2/2 [==============================] - 6s 3s/step - loss: 0.0499 - sparse_categorical_accuracy: 0.9966\n",
      "Epoch 98/100\n",
      "2/2 [==============================] - 6s 3s/step - loss: 0.0499 - sparse_categorical_accuracy: 0.9967\n",
      "Epoch 99/100\n",
      "2/2 [==============================] - 6s 3s/step - loss: 0.0498 - sparse_categorical_accuracy: 0.9967\n",
      "Epoch 100/100\n",
      "2/2 [==============================] - 6s 3s/step - loss: 0.0498 - sparse_categorical_accuracy: 0.9967\n"
     ]
    }
   ],
   "source": [
    "history = model.fit(x=ins, y=outs, epochs=100, steps_per_epoch = 2, verbose=True)"
   ]
  },
  {
   "cell_type": "code",
   "execution_count": 12,
   "id": "continued-fraction",
   "metadata": {},
   "outputs": [],
   "source": [
    "pred = model.predict(ins)"
   ]
  },
  {
   "cell_type": "code",
   "execution_count": 13,
   "id": "fitting-headline",
   "metadata": {},
   "outputs": [],
   "source": [
    "labels=np.argmax(pred, axis=3)"
   ]
  },
  {
   "cell_type": "code",
   "execution_count": 30,
   "id": "amber-orbit",
   "metadata": {},
   "outputs": [
    {
     "data": {
      "text/plain": [
       "<matplotlib.image.AxesImage at 0x7f6e2c6e60d0>"
      ]
     },
     "execution_count": 30,
     "metadata": {},
     "output_type": "execute_result"
    },
    {
     "data": {
      "image/png": "[encoded data removed]",
      "text/plain": [
       "<Figure size 432x288 with 1 Axes>"
      ]
     },
     "metadata": {
      "needs_background": "light"
     },
     "output_type": "display_data"
    }
   ],
   "source": [
    "plt.imshow(labels[10,:,:])"
   ]
  },
  {
   "cell_type": "code",
   "execution_count": 26,
   "id": "medieval-saskatchewan",
   "metadata": {},
   "outputs": [
    {
     "data": {
      "text/plain": [
       "<matplotlib.image.AxesImage at 0x7f6e2c74ffa0>"
      ]
     },
     "execution_count": 26,
     "metadata": {},
     "output_type": "execute_result"
    },
    {
     "data": {
      "image/png": "[encoded data removed]",
      "text/plain": [
       "<Figure size 432x288 with 1 Axes>"
      ]
     },
     "metadata": {
      "needs_background": "light"
     },
     "output_type": "display_data"
    }
   ],
   "source": [
    "plt.imshow(outs[7,:,:])"
   ]
  },
  {
   "cell_type": "code",
   "execution_count": null,
   "id": "north-trauma",
   "metadata": {},
   "outputs": [],
   "source": [
    "plt.imshow(ins[4,:,:])"
   ]
  },
  {
   "cell_type": "code",
   "execution_count": 27,
   "id": "convertible-centre",
   "metadata": {},
   "outputs": [
    {
     "name": "stdout",
     "output_type": "stream",
     "text": [
      "INFO:tensorflow:Assets written to: testModel/assets\n"
     ]
    }
   ],
   "source": [
    "model.save('testModel')"
   ]
  },
  {
   "cell_type": "code",
   "execution_count": 145,
   "id": "assumed-consolidation",
   "metadata": {},
   "outputs": [],
   "source": []
  },
  {
   "cell_type": "code",
   "execution_count": 143,
   "id": "advance-python",
   "metadata": {},
   "outputs": [
    {
     "ename": "AttributeError",
     "evalue": "module 'tensorflow._api.v2.train' has no attribute 'Saver'",
     "output_type": "error",
     "traceback": [
      "\u001b[0;31m---------------------------------------------------------------------------\u001b[0m",
      "\u001b[0;31mAttributeError\u001b[0m                            Traceback (most recent call last)",
      "\u001b[0;32m<ipython-input-143-b14b700e5bb2>\u001b[0m in \u001b[0;36m<module>\u001b[0;34m\u001b[0m\n\u001b[1;32m     27\u001b[0m     \u001b[0;32mreturn\u001b[0m \u001b[0mpb_filepath\u001b[0m\u001b[0;34m\u001b[0m\u001b[0;34m\u001b[0m\u001b[0m\n\u001b[1;32m     28\u001b[0m \u001b[0;34m\u001b[0m\u001b[0m\n\u001b[0;32m---> 29\u001b[0;31m \u001b[0msave\u001b[0m \u001b[0;34m=\u001b[0m \u001b[0mtf\u001b[0m\u001b[0;34m.\u001b[0m\u001b[0mtrain\u001b[0m\u001b[0;34m.\u001b[0m\u001b[0mSaver\u001b[0m\u001b[0;34m(\u001b[0m\u001b[0;34m)\u001b[0m\u001b[0;34m\u001b[0m\u001b[0;34m\u001b[0m\u001b[0m\n\u001b[0m\u001b[1;32m     30\u001b[0m \u001b[0;31m#save(tf.train.Saver())\u001b[0m\u001b[0;34m\u001b[0m\u001b[0;34m\u001b[0m\u001b[0;34m\u001b[0m\u001b[0m\n",
      "\u001b[0;31mAttributeError\u001b[0m: module 'tensorflow._api.v2.train' has no attribute 'Saver'"
     ]
    }
   ],
   "source": []
  }
 ],
 "metadata": {
  "kernelspec": {
   "display_name": "Python 3",
   "language": "python",
   "name": "python3"
  },
  "language_info": {
   "codemirror_mode": {
    "name": "ipython",
    "version": 3
   },
   "file_extension": ".py",
   "mimetype": "text/x-python",
   "name": "python",
   "nbconvert_exporter": "python",
   "pygments_lexer": "ipython3",
   "version": "3.8.5"
  }
 },
 "nbformat": 4,
 "nbformat_minor": 5
}
